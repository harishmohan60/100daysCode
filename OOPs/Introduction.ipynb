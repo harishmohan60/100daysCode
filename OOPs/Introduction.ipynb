{
 "metadata": {
  "language_info": {
   "codemirror_mode": {
    "name": "ipython",
    "version": 3
   },
   "file_extension": ".py",
   "mimetype": "text/x-python",
   "name": "python",
   "nbconvert_exporter": "python",
   "pygments_lexer": "ipython3",
   "version": "3.8.0-final"
  },
  "orig_nbformat": 2,
  "kernelspec": {
   "name": "Python 3.8.0 64-bit",
   "display_name": "Python 3.8.0 64-bit",
   "metadata": {
    "interpreter": {
     "hash": "59045e629a07e05d5f437af716c8a6e2596ed86746077eedb1b352ec10176774"
    }
   }
  }
 },
 "nbformat": 4,
 "nbformat_minor": 2,
 "cells": [
  {
   "source": [
    "# OOPS Introduction"
   ],
   "cell_type": "markdown",
   "metadata": {}
  },
  {
   "source": [
    "## POPs Vs OOPs \n",
    "### POPS\n",
    "- Building blocks- Functions\n",
    "- Importance not given to data but to functions\n",
    "- Top down approach\n",
    "- Does not have any access specifier\n",
    "- Data moves freely from function to function\n",
    "- Modification are difficult as it will impact entire flow\n",
    "\n",
    "\n",
    "### OOPs\n",
    "- Building blocks- Objects\n",
    "- Importance given to data rather than functions\n",
    "- Bottom up approch\n",
    "- Have access specifier like Public, Private, protected etc. \n",
    "- Object can move and communicate with each other\n",
    "- Modifications are easy as the object are independent\n"
   ],
   "cell_type": "markdown",
   "metadata": {}
  },
  {
   "cell_type": "code",
   "execution_count": 3,
   "metadata": {},
   "outputs": [],
   "source": [
    "def ctof(c):\n",
    "    f = (c*9/5) + 32\n",
    "    print(f)"
   ]
  },
  {
   "cell_type": "code",
   "execution_count": 9,
   "metadata": {},
   "outputs": [
    {
     "output_type": "stream",
     "name": "stdout",
     "text": [
      "50.0\n68.0\n"
     ]
    }
   ],
   "source": [
    "ctof(10)\n",
    "ctof(20)"
   ]
  },
  {
   "cell_type": "code",
   "execution_count": 17,
   "metadata": {},
   "outputs": [
    {
     "output_type": "stream",
     "name": "stdout",
     "text": [
      "50.0\n212.0\n69.8\n109.4\n"
     ]
    }
   ],
   "source": [
    "class Ctof:\n",
    "    def __init__(self,c):\n",
    "        self.c = c\n",
    "    def ctof(self):\n",
    "        f = (self.c * 9/5) + 32\n",
    "        print(f)\n",
    "\n",
    "c1 = Ctof(10)\n",
    "c2 = Ctof(100)\n",
    "c3 = Ctof(21)\n",
    "c4 = Ctof(43)\n",
    "\n",
    "c1.ctof()\n",
    "c2.ctof()\n",
    "c3.ctof()\n",
    "c4.ctof()"
   ]
  },
  {
   "cell_type": "code",
   "execution_count": 20,
   "metadata": {},
   "outputs": [],
   "source": [
    "class Employee:\n",
    "    '''This is a class which will calculate the salary of an employee'''"
   ]
  },
  {
   "cell_type": "code",
   "execution_count": 21,
   "metadata": {},
   "outputs": [
    {
     "output_type": "stream",
     "name": "stdout",
     "text": [
      "This is a class which will calculate the salary of an employee\n"
     ]
    }
   ],
   "source": [
    "print(Employee.__doc__)"
   ]
  },
  {
   "cell_type": "code",
   "execution_count": 34,
   "metadata": {},
   "outputs": [],
   "source": [
    "class Employee:\n",
    "    # __init__ Constructor\n",
    "    def __init__(self, name, employeeid, salary):\n",
    "        self.name = name\n",
    "        self.employeeid = employeeid\n",
    "        self.salary = salary\n",
    "    \n",
    "    def talk(self):\n",
    "        print('Hello my name is:', self.name)\n",
    "        print('Hello my employeeid is:', self.name)\n",
    "        print('Hello my salary is:', self.salary)"
   ]
  },
  {
   "cell_type": "code",
   "execution_count": 35,
   "metadata": {},
   "outputs": [
    {
     "output_type": "stream",
     "name": "stdout",
     "text": [
      "Hello my name is: Harish\nHello my employeeid is: Harish\nHello my salary is: 5678\n"
     ]
    }
   ],
   "source": [
    "Employee('Harish', 1234, 5678).talk()"
   ]
  },
  {
   "cell_type": "code",
   "execution_count": 36,
   "metadata": {},
   "outputs": [],
   "source": [
    "class Employee:\n",
    "    def __init__(self):\n",
    "        pass\n",
    "e = Employee()"
   ]
  },
  {
   "source": [
    "\"__init__\" Constructor\n",
    "- Is a special Method in Python\n",
    "- The name of the constructor should be __init__\n",
    "- Constructor will be executed automatically whenever we create an object\n",
    "- The main objective is to declare object related variables and perform initialization\n",
    "- The constructor will execute once per object\n",
    "- Constructor should take atleast one argument that is self\n",
    "- Constructor is optional and if we are not providing python internally provide default constructor"
   ],
   "cell_type": "markdown",
   "metadata": {}
  }
 ]
}