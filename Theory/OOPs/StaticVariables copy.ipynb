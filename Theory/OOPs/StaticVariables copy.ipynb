{
 "metadata": {
  "language_info": {
   "codemirror_mode": {
    "name": "ipython",
    "version": 3
   },
   "file_extension": ".py",
   "mimetype": "text/x-python",
   "name": "python",
   "nbconvert_exporter": "python",
   "pygments_lexer": "ipython3",
   "version": "3.8.0-final"
  },
  "orig_nbformat": 2,
  "kernelspec": {
   "name": "Python 3.8.0 64-bit",
   "display_name": "Python 3.8.0 64-bit",
   "metadata": {
    "interpreter": {
     "hash": "59045e629a07e05d5f437af716c8a6e2596ed86746077eedb1b352ec10176774"
    }
   }
  }
 },
 "nbformat": 4,
 "nbformat_minor": 2,
 "cells": [
  {
   "source": [
    "# Static variables\n",
    "\n",
    "- We are not to mainitain seperate copy og a variable- Share the same copy\n",
    "- One copy of static variable crreated at the class level\n",
    "\n",
    "### How to declare the static variable\n",
    "- Directly create inside the class, self is not associated\n",
    "- Inside the constructor while using the class name\n",
    "- Inside instance method using class name\n",
    "- Inside class method by using cls varaible or class name\n",
    "- Inside static method by using class name\n",
    "- From outside the class as well\n",
    "\n",
    "-Static variable - Only one copy will be created at this class level / Instance variable - For every object a sepreate copy will be created"
   ],
   "cell_type": "markdown",
   "metadata": {}
  },
  {
   "cell_type": "code",
   "execution_count": 8,
   "metadata": {},
   "outputs": [
    {
     "output_type": "stream",
     "name": "stdout",
     "text": [
      "{'__module__': '__main__', 'a': 10, '__init__': <function Test.__init__ at 0x00000173BB611A60>, 'm1': <function Test.m1 at 0x00000173BB611790>, 'm2': <classmethod object at 0x00000173BAEEAFA0>, 'm3': <staticmethod object at 0x00000173BAEEA430>, '__dict__': <attribute '__dict__' of 'Test' objects>, '__weakref__': <attribute '__weakref__' of 'Test' objects>, '__doc__': None}\n{'__module__': '__main__', 'a': 10, '__init__': <function Test.__init__ at 0x00000173BB611A60>, 'm1': <function Test.m1 at 0x00000173BB611790>, 'm2': <classmethod object at 0x00000173BAEEAFA0>, 'm3': <staticmethod object at 0x00000173BAEEA430>, '__dict__': <attribute '__dict__' of 'Test' objects>, '__weakref__': <attribute '__weakref__' of 'Test' objects>, '__doc__': None, 'b': 20, 'g': 100}\n{'__module__': '__main__', 'a': 10, '__init__': <function Test.__init__ at 0x00000173BB611A60>, 'm1': <function Test.m1 at 0x00000173BB611790>, 'm2': <classmethod object at 0x00000173BAEEAFA0>, 'm3': <staticmethod object at 0x00000173BAEEA430>, '__dict__': <attribute '__dict__' of 'Test' objects>, '__weakref__': <attribute '__weakref__' of 'Test' objects>, '__doc__': None, 'b': 20, 'g': 100, 'c': 30}\n{'__module__': '__main__', 'a': 10, '__init__': <function Test.__init__ at 0x00000173BB611A60>, 'm1': <function Test.m1 at 0x00000173BB611790>, 'm2': <classmethod object at 0x00000173BAEEAFA0>, 'm3': <staticmethod object at 0x00000173BAEEA430>, '__dict__': <attribute '__dict__' of 'Test' objects>, '__weakref__': <attribute '__weakref__' of 'Test' objects>, '__doc__': None, 'b': 20, 'g': 100, 'c': 30, 'd': 40, 'e': 50}\n{'__module__': '__main__', 'a': 10, '__init__': <function Test.__init__ at 0x00000173BB611A60>, 'm1': <function Test.m1 at 0x00000173BB611790>, 'm2': <classmethod object at 0x00000173BAEEAFA0>, 'm3': <staticmethod object at 0x00000173BAEEA430>, '__dict__': <attribute '__dict__' of 'Test' objects>, '__weakref__': <attribute '__weakref__' of 'Test' objects>, '__doc__': None, 'b': 20, 'g': 100, 'c': 30, 'd': 40, 'e': 50, 'f': 60}\n"
     ]
    }
   ],
   "source": [
    "class Test: \n",
    "    #Static variable\n",
    "    a = 10 \n",
    "    def __init__(self):\n",
    "        Test.b = 20 #Static variable- Inside constructor while using the class name\n",
    "\n",
    "    def m1(self):\n",
    "        Test.c = 30 #Static variable- Inside instance method using class name\n",
    "\n",
    "    @classmethod \n",
    "    def m2(cls):\n",
    "        cls.d = 40 #Static variable- Inside class method by using cls variable \n",
    "        Test.e = 50 #Static variable- Inside class method by using class name\n",
    "\n",
    "    @staticmethod\n",
    "    def m3():\n",
    "        Test.f = 60 #Static variable- Inside static method by using class name\n",
    "\n",
    "\n",
    "print(Test.__dict__)\n",
    "t = Test()\n",
    "Test.g = 100 #Static varaible- From outside the class as well\n",
    "print(Test.__dict__)\n",
    "t.m1()\n",
    "print(Test.__dict__)\n",
    "t.m2()\n",
    "print(Test.__dict__)\n",
    "t.m3()\n",
    "print(Test.__dict__)\n"
   ]
  },
  {
   "cell_type": "code",
   "execution_count": 7,
   "metadata": {},
   "outputs": [
    {
     "output_type": "stream",
     "name": "stdout",
     "text": [
      "888\n777\n"
     ]
    }
   ],
   "source": [
    "class Test: \n",
    "    a = 777 #Static variable\n",
    "    def __init__(self):\n",
    "        self.a = 888 #Instance variable\n",
    "\n",
    "t = Test()\n",
    "print(t.a)\n",
    "print(Test.a) "
   ]
  },
  {
   "source": [
    "### How to access the static variable\n",
    "1. Inside the constructor- Either by self or by class name\n",
    "2. Inside the Instance method - Either by self or class name\n",
    "3. Inside the class method - Either by cls or by class name\n",
    "4. Inside the static method- By class name\n",
    "5. Outside the class- Either by object ref or by class name\n"
   ],
   "cell_type": "markdown",
   "metadata": {}
  },
  {
   "cell_type": "code",
   "execution_count": 20,
   "metadata": {},
   "outputs": [
    {
     "output_type": "stream",
     "name": "stdout",
     "text": [
      "10\n10\n10\n10\n10\n10\n10\n"
     ]
    },
    {
     "output_type": "execute_result",
     "data": {
      "text/plain": [
       "10"
      ]
     },
     "metadata": {},
     "execution_count": 20
    }
   ],
   "source": [
    "class Test: \n",
    "    a = 10\n",
    "    def __init__(self):\n",
    "        #self.a = 100\n",
    "        print(self.a)\n",
    "        print(Test.a)\n",
    "\n",
    "    def m1(self):\n",
    "        print(self.a)\n",
    "        print(Test.a)\n",
    "\n",
    "    @classmethod\n",
    "    def m2(cls):\n",
    "        print(cls.a)\n",
    "        print(Test.a)\n",
    "\n",
    "    @staticmethod\n",
    "    def m3():\n",
    "        print(Test.a)\n",
    "\n",
    "t = Test()\n",
    "t.m1()\n",
    "t.m2()\n",
    "t.m3()\n"
   ]
  },
  {
   "cell_type": "code",
   "execution_count": null,
   "metadata": {},
   "outputs": [],
   "source": []
  }
 ]
}