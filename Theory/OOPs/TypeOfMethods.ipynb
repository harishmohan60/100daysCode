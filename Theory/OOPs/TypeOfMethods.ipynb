{
 "metadata": {
  "language_info": {
   "codemirror_mode": {
    "name": "ipython",
    "version": 3
   },
   "file_extension": ".py",
   "mimetype": "text/x-python",
   "name": "python",
   "nbconvert_exporter": "python",
   "pygments_lexer": "ipython3",
   "version": "3.8.0-final"
  },
  "orig_nbformat": 2,
  "kernelspec": {
   "name": "Python 3.8.0 64-bit",
   "display_name": "Python 3.8.0 64-bit",
   "metadata": {
    "interpreter": {
     "hash": "59045e629a07e05d5f437af716c8a6e2596ed86746077eedb1b352ec10176774"
    }
   }
  }
 },
 "nbformat": 4,
 "nbformat_minor": 2,
 "cells": [
  {
   "source": [
    "# Types of Methods\n",
    "- Instance Methods (Objet related Method)\n",
    "- Static Methods\n",
    "- Class Methods\n",
    "\n",
    "### Instance Method\n",
    "- Related to object, any method consists of instance varaibles- Instance method\n",
    "- Inside the instance method, first keyword i.e. self is compulsory "
   ],
   "cell_type": "markdown",
   "metadata": {}
  },
  {
   "cell_type": "code",
   "execution_count": 5,
   "metadata": {},
   "outputs": [
    {
     "output_type": "stream",
     "name": "stdout",
     "text": [
      "Hi Harish\nYour marks: 60\nYou got 1st grade\n"
     ]
    }
   ],
   "source": [
    "class Student: \n",
    "    def __init__(self, name, marks):\n",
    "        self.name = name\n",
    "        self.marks = marks\n",
    "\n",
    "\n",
    "    def display(self):\n",
    "        print('Hi', self.name)\n",
    "        print('Your marks:', self.marks)\n",
    "\n",
    "    def grade(self):\n",
    "        if self.marks >= 60:\n",
    "            print('You got 1st grade')\n",
    "        elif self.marks >= 50:\n",
    "            print('You got 2nd grade')\n",
    "        elif self.marks >= 35:\n",
    "            print('You got 3rd grade')\n",
    "        else:\n",
    "            print('You did not pass')\n",
    "\n",
    "s1 = Student('Harish', 60)\n",
    "s1.display()\n",
    "s1.grade()"
   ]
  },
  {
   "cell_type": "code",
   "execution_count": 13,
   "metadata": {},
   "outputs": [
    {
     "output_type": "stream",
     "name": "stdout",
     "text": [
      "Hi Harish\nYour marks: 60\nYou got 1st grade\n"
     ]
    }
   ],
   "source": [
    "class Student: \n",
    "    def __init__(self, name, marks):\n",
    "        self.name = name\n",
    "        self.marks = marks\n",
    "\n",
    "\n",
    "    def display(self):\n",
    "        print('Hi', self.name)\n",
    "        print('Your marks:', self.marks)\n",
    "        self.grade() #If we want to call an instance method inside a instance method we need to go for self keyword\n",
    "\n",
    "    def grade(self):\n",
    "        if self.marks >= 60:\n",
    "            print('You got 1st grade')\n",
    "        elif self.marks >= 50:\n",
    "            print('You got 2nd grade')\n",
    "        elif self.marks >= 35:\n",
    "            print('You got 3rd grade')\n",
    "        else:\n",
    "            print('You did not pass')\n",
    "\n",
    "s1 = Student('Harish', 60)\n",
    "s1.display()"
   ]
  },
  {
   "cell_type": "code",
   "execution_count": 14,
   "metadata": {},
   "outputs": [
    {
     "output_type": "stream",
     "name": "stdout",
     "text": [
      "Hi Harish\nYour mark 30\nYou did not pass\n"
     ]
    }
   ],
   "source": [
    "class Student: \n",
    "    def __init__(self, name, mark):\n",
    "        self.name = name\n",
    "        self.mark = mark\n",
    "        self.display()\n",
    "\n",
    "    def display(self):\n",
    "        print('Hi', self.name)\n",
    "        print('Your mark', self.mark)\n",
    "        self.grade()\n",
    "\n",
    "    def grade(self):\n",
    "        if self.mark >=60:\n",
    "            print(\"Grade: 1st\")\n",
    "        elif self.mark >= 50:\n",
    "            print(\"Grade: 2nd\")\n",
    "        elif self.mark >= 35:\n",
    "            print(\"Grade: 3rd\")\n",
    "        else: \n",
    "            print(\"You did not pass\")\n",
    "\n",
    "s1 = Student('Harish', 30)"
   ]
  },
  {
   "source": [
    "## Setter and Getter methods\n",
    "- Setter- To set the values to the instance variables (Mutator method)\n",
    "- Getter- To get the values of an instance variables (Accessor method)"
   ],
   "cell_type": "markdown",
   "metadata": {}
  },
  {
   "cell_type": "code",
   "execution_count": 25,
   "metadata": {},
   "outputs": [
    {
     "output_type": "stream",
     "name": "stdout",
     "text": [
      "Student Name H1\nStudent Marks 40\nStudent Name H2\nStudent Marks 40\n"
     ]
    }
   ],
   "source": [
    "class Student:\n",
    "    def setName(self, name):\n",
    "        self.name = name\n",
    "\n",
    "    def getName(self):\n",
    "        return self.name\n",
    "\n",
    "    def setMarks(self, marks):\n",
    "        self.marks = marks\n",
    "\n",
    "    def getMarks(self):\n",
    "        return self.marks\n",
    "\n",
    "l = []\n",
    "n = int(input('Enter the number of students:'))\n",
    "for i in range(n):\n",
    "    s = Student()\n",
    "    name = input('Enter the name of the student')\n",
    "    marks = int(input('Enter the mark of the student'))\n",
    "    s.setName(name)\n",
    "    s.setMarks(marks)\n",
    "    l.append(s)\n",
    "\n",
    "for s in l:\n",
    "    print('Student Name', s.getName())\n",
    "    print('Student Marks', s.getMarks())"
   ]
  },
  {
   "source": [
    "## Class Methods\n",
    "- Inside the method implementation if we are using only static varaiables (WITHOUT INSTANCE VARIABLES)\n",
    "- Atlest one instance varaiables is required to call it as Instance method\n",
    "- Instance variables + Static variables - Both are present (Instance Method)\n",
    "\n",
    "@classmethod decorator is required and must pass cls\n",
    "we can call methods by using class name or object ref"
   ],
   "cell_type": "markdown",
   "metadata": {}
  },
  {
   "cell_type": "code",
   "execution_count": null,
   "metadata": {},
   "outputs": [],
   "source": []
  }
 ]
}