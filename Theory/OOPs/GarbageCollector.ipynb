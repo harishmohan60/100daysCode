{
 "metadata": {
  "language_info": {
   "codemirror_mode": {
    "name": "ipython",
    "version": 3
   },
   "file_extension": ".py",
   "mimetype": "text/x-python",
   "name": "python",
   "nbconvert_exporter": "python",
   "pygments_lexer": "ipython3",
   "version": "3.8.0-final"
  },
  "orig_nbformat": 2,
  "kernelspec": {
   "name": "Python 3.8.0 64-bit",
   "display_name": "Python 3.8.0 64-bit",
   "metadata": {
    "interpreter": {
     "hash": "59045e629a07e05d5f437af716c8a6e2596ed86746077eedb1b352ec10176774"
    }
   }
  }
 },
 "nbformat": 4,
 "nbformat_minor": 2,
 "cells": [
  {
   "source": [
    "# Garbage Collector (GC)\n",
    "- GC is responsible to destroy objects\n",
    "- GC is part of Python virtual machine\n",
    "- When there is no reference variable then it is eligible for GC\n",
    "- By default GC is enabled (but can be disabled) import gc gc.disabled()\n",
    "\n",
    "## Destructor concept\n",
    "- GC Last wishes\n",
    "    - One database connect, Network connection release that (clean up activities)\n",
    "- Destructor\n",
    "- GC calls the Destructor\n",
    "- Clean up actitivities\n",
    "- The job of destructor is not to destory the object just to do the clean up actitivies, destroying the objects done by- GC\n",
    "\n",
    "### Constructor method\n",
    "```\n",
    "def __init__(self):\n",
    "```\n",
    "\n",
    "### Destructor method\n",
    "```\n",
    "def __del__(self):\n",
    "```\n"
   ],
   "cell_type": "markdown",
   "metadata": {}
  },
  {
   "cell_type": "code",
   "execution_count": 4,
   "metadata": {},
   "outputs": [
    {
     "output_type": "stream",
     "name": "stdout",
     "text": [
      "Object Initialization\n",
      "Performing clean up activitives\n",
      "Using the object T1 for my technical purpose\n",
      "End of Application\n"
     ]
    }
   ],
   "source": [
    "import time\n",
    "\n",
    "class Test:\n",
    "    def __init__(self):\n",
    "        print('Object Initialization')\n",
    "    def __del__(self):\n",
    "        print('Performing clean up activitives')\n",
    "\n",
    "t1 = Test()\n",
    "print('Using the object T1 for my technical purpose')\n",
    "time.sleep(5)\n",
    "print('End of Application')"
   ]
  },
  {
   "source": [
    "### Run Python file on the terminal\n",
    "```\n",
    "Object Initialization\n",
    "Using the object T1 for my technical purpose\n",
    "End of Application\n",
    "Performing clean up activitives\n",
    "```"
   ],
   "cell_type": "markdown",
   "metadata": {}
  },
  {
   "cell_type": "code",
   "execution_count": 5,
   "metadata": {},
   "outputs": [
    {
     "output_type": "stream",
     "name": "stdout",
     "text": [
      "Object Initialization\n",
      "Using the object T1 for my technical purpose\n",
      "Performing clean up activitives\n",
      "End of Application\n"
     ]
    }
   ],
   "source": [
    "import time\n",
    "\n",
    "class Test:\n",
    "    def __init__(self):\n",
    "        print('Object Initialization')\n",
    "    def __del__(self):\n",
    "        print('Performing clean up activitives')\n",
    "\n",
    "t1 = Test()\n",
    "print('Using the object T1 for my technical purpose')\n",
    "time.sleep(5)\n",
    "t1 = None\n",
    "time.sleep(10)\n",
    "print('End of Application')"
   ]
  },
  {
   "cell_type": "code",
   "execution_count": 9,
   "metadata": {},
   "outputs": [
    {
     "output_type": "stream",
     "name": "stdout",
     "text": [
      "Object Initialization\n",
      "2040363187744\n",
      "2040363187744\n",
      "2040363187744\n",
      "\n",
      "Object not yet ready to destroy after deleting the T1\n",
      "Object not yet ready to destory after deleting the T2\n",
      "Clean up\n",
      "Object is ready to destroy\n",
      "End of the application\n"
     ]
    }
   ],
   "source": [
    "import time\n",
    "class Test:\n",
    "    def __init__(self):\n",
    "        print('Object Initialization')\n",
    "    def __del__(self):\n",
    "        print('Clean up')\n",
    "\n",
    "t1 = Test()\n",
    "t2 = t1\n",
    "t3 = t2\n",
    "\n",
    "print(id(t1))\n",
    "print(id(t2))\n",
    "print(id(t3))\n",
    "print('')\n",
    "\n",
    "del t1 \n",
    "time.sleep(10)\n",
    "print('Object not yet ready to destroy after deleting the T1')\n",
    "\n",
    "del t2\n",
    "time.sleep(10)\n",
    "print('Object not yet ready to destory after deleting the T2')\n",
    "\n",
    "del t3\n",
    "time.sleep(10)\n",
    "print('Object is ready to destroy')\n",
    "print('End of the application')"
   ]
  },
  {
   "cell_type": "code",
   "execution_count": 12,
   "metadata": {},
   "outputs": [
    {
     "output_type": "stream",
     "name": "stdout",
     "text": [
      "Object Initialization\nObject Initialization\nObject Initialization\nEnd of the app\n"
     ]
    }
   ],
   "source": [
    "import time\n",
    "class Test:\n",
    "    def __init__(self):\n",
    "        print('Object Initialization')\n",
    "    def __del__(self):\n",
    "        print('Clean up')\n",
    "\n",
    "list = [Test(), Test(), Test()]\n",
    "print('End of the app')"
   ]
  },
  {
   "cell_type": "code",
   "execution_count": 13,
   "metadata": {},
   "outputs": [
    {
     "output_type": "stream",
     "name": "stdout",
     "text": [
      "Object Initialization\nObject Initialization\nObject Initialization\nClean up\nClean up\nClean up\nEnd of the app\n"
     ]
    }
   ],
   "source": [
    "import time\n",
    "class Test:\n",
    "    def __init__(self):\n",
    "        print('Object Initialization')\n",
    "    def __del__(self):\n",
    "        print('Clean up')\n",
    "\n",
    "list = [Test(), Test(), Test()]\n",
    "del list\n",
    "print('End of the app')"
   ]
  },
  {
   "cell_type": "code",
   "execution_count": null,
   "metadata": {},
   "outputs": [],
   "source": []
  }
 ]
}