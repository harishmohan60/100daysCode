{
 "metadata": {
  "language_info": {
   "codemirror_mode": {
    "name": "ipython",
    "version": 3
   },
   "file_extension": ".py",
   "mimetype": "text/x-python",
   "name": "python",
   "nbconvert_exporter": "python",
   "pygments_lexer": "ipython3",
   "version": "3.8.0-final"
  },
  "orig_nbformat": 2,
  "kernelspec": {
   "name": "Python 3.8.0 64-bit",
   "display_name": "Python 3.8.0 64-bit",
   "metadata": {
    "interpreter": {
     "hash": "59045e629a07e05d5f437af716c8a6e2596ed86746077eedb1b352ec10176774"
    }
   }
  }
 },
 "nbformat": 4,
 "nbformat_minor": 2,
 "cells": [
  {
   "source": [
    "# Garbage Collector (GC)\n",
    "- GC is responsible to destroy objects\n",
    "- GC is part of Python virtual machine\n",
    "- When there is no reference variable then it is eligible for GC\n",
    "- By default GC is enabled (but can be disabled) import gc gc.disabled()\n",
    "\n",
    "## Destructor concept\n",
    "- GC Last wishes\n",
    "    - One database connect, Network connection release that (clean up activities)\n",
    "- Destructor\n",
    "- GC calls the Destructor\n",
    "- Clean up actitivities\n",
    "- The job of destructor is not to destory the object just to do the clean up actitivies, destroying the objects done by- GC\n",
    "\n",
    "### Constructor method\n",
    "```\n",
    "def __init__(self):\n",
    "```\n",
    "\n",
    "### Destructor method\n",
    "```\n",
    "def __del__(self):\n",
    "```\n"
   ],
   "cell_type": "markdown",
   "metadata": {}
  },
  {
   "cell_type": "code",
   "execution_count": 4,
   "metadata": {},
   "outputs": [
    {
     "output_type": "stream",
     "name": "stdout",
     "text": [
      "Object Initialization\n",
      "Performing clean up activitives\n",
      "Using the object T1 for my technical purpose\n",
      "End of Application\n"
     ]
    }
   ],
   "source": [
    "import time\n",
    "\n",
    "class Test:\n",
    "    def __init__(self):\n",
    "        print('Object Initialization')\n",
    "    def __del__(self):\n",
    "        print('Performing clean up activitives')\n",
    "\n",
    "t1 = Test()\n",
    "print('Using the object T1 for my technical purpose')\n",
    "time.sleep(5)\n",
    "print('End of Application')"
   ]
  },
  {
   "source": [
    "### Run Python file on the terminal\n",
    "```\n",
    "Object Initialization\n",
    "Using the object T1 for my technical purpose\n",
    "End of Application\n",
    "Performing clean up activitives\n",
    "```"
   ],
   "cell_type": "markdown",
   "metadata": {}
  },
  {
   "cell_type": "code",
   "execution_count": 5,
   "metadata": {},
   "outputs": [
    {
     "output_type": "stream",
     "name": "stdout",
     "text": [
      "Object Initialization\n",
      "Using the object T1 for my technical purpose\n",
      "Performing clean up activitives\n",
      "End of Application\n"
     ]
    }
   ],
   "source": [
    "import time\n",
    "\n",
    "class Test:\n",
    "    def __init__(self):\n",
    "        print('Object Initialization')\n",
    "    def __del__(self):\n",
    "        print('Performing clean up activitives')\n",
    "\n",
    "t1 = Test()\n",
    "print('Using the object T1 for my technical purpose')\n",
    "time.sleep(5)\n",
    "t1 = None\n",
    "time.sleep(10)\n",
    "print('End of Application')"
   ]
  },
  {
   "cell_type": "code",
   "execution_count": null,
   "metadata": {},
   "outputs": [],
   "source": []
  }
 ]
}