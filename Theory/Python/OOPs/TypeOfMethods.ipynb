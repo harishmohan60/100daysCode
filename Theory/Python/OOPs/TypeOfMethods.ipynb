{
 "metadata": {
  "language_info": {
   "codemirror_mode": {
    "name": "ipython",
    "version": 3
   },
   "file_extension": ".py",
   "mimetype": "text/x-python",
   "name": "python",
   "nbconvert_exporter": "python",
   "pygments_lexer": "ipython3",
   "version": "3.8.0-final"
  },
  "orig_nbformat": 2,
  "kernelspec": {
   "name": "Python 3.8.0 64-bit",
   "display_name": "Python 3.8.0 64-bit",
   "metadata": {
    "interpreter": {
     "hash": "59045e629a07e05d5f437af716c8a6e2596ed86746077eedb1b352ec10176774"
    }
   }
  }
 },
 "nbformat": 4,
 "nbformat_minor": 2,
 "cells": [
  {
   "source": [
    "# Types of Methods\n",
    "- Instance Methods (Objet related Method)\n",
    "- Static Methods\n",
    "- Class Methods\n",
    "\n",
    "### Instance Method\n",
    "- Related to object, any method consists of instance varaibles- Instance method\n",
    "- Inside the instance method, first keyword i.e. self is compulsory "
   ],
   "cell_type": "markdown",
   "metadata": {}
  },
  {
   "cell_type": "code",
   "execution_count": 5,
   "metadata": {},
   "outputs": [
    {
     "output_type": "stream",
     "name": "stdout",
     "text": [
      "Hi Harish\nYour marks: 60\nYou got 1st grade\n"
     ]
    }
   ],
   "source": [
    "class Student: \n",
    "    def __init__(self, name, marks):\n",
    "        self.name = name\n",
    "        self.marks = marks\n",
    "\n",
    "\n",
    "    def display(self):\n",
    "        print('Hi', self.name)\n",
    "        print('Your marks:', self.marks)\n",
    "\n",
    "    def grade(self):\n",
    "        if self.marks >= 60:\n",
    "            print('You got 1st grade')\n",
    "        elif self.marks >= 50:\n",
    "            print('You got 2nd grade')\n",
    "        elif self.marks >= 35:\n",
    "            print('You got 3rd grade')\n",
    "        else:\n",
    "            print('You did not pass')\n",
    "\n",
    "s1 = Student('Harish', 60)\n",
    "s1.display()\n",
    "s1.grade()"
   ]
  },
  {
   "cell_type": "code",
   "execution_count": 13,
   "metadata": {},
   "outputs": [
    {
     "output_type": "stream",
     "name": "stdout",
     "text": [
      "Hi Harish\nYour marks: 60\nYou got 1st grade\n"
     ]
    }
   ],
   "source": [
    "class Student: \n",
    "    def __init__(self, name, marks):\n",
    "        self.name = name\n",
    "        self.marks = marks\n",
    "\n",
    "\n",
    "    def display(self):\n",
    "        print('Hi', self.name)\n",
    "        print('Your marks:', self.marks)\n",
    "        self.grade() #If we want to call an instance method inside a instance method we need to go for self keyword\n",
    "\n",
    "    def grade(self):\n",
    "        if self.marks >= 60:\n",
    "            print('You got 1st grade')\n",
    "        elif self.marks >= 50:\n",
    "            print('You got 2nd grade')\n",
    "        elif self.marks >= 35:\n",
    "            print('You got 3rd grade')\n",
    "        else:\n",
    "            print('You did not pass')\n",
    "\n",
    "s1 = Student('Harish', 60)\n",
    "s1.display()"
   ]
  },
  {
   "cell_type": "code",
   "execution_count": 14,
   "metadata": {},
   "outputs": [
    {
     "output_type": "stream",
     "name": "stdout",
     "text": [
      "Hi Harish\nYour mark 30\nYou did not pass\n"
     ]
    }
   ],
   "source": [
    "class Student: \n",
    "    def __init__(self, name, mark):\n",
    "        self.name = name\n",
    "        self.mark = mark\n",
    "        self.display()\n",
    "\n",
    "    def display(self):\n",
    "        print('Hi', self.name)\n",
    "        print('Your mark', self.mark)\n",
    "        self.grade()\n",
    "\n",
    "    def grade(self):\n",
    "        if self.mark >=60:\n",
    "            print(\"Grade: 1st\")\n",
    "        elif self.mark >= 50:\n",
    "            print(\"Grade: 2nd\")\n",
    "        elif self.mark >= 35:\n",
    "            print(\"Grade: 3rd\")\n",
    "        else: \n",
    "            print(\"You did not pass\")\n",
    "\n",
    "s1 = Student('Harish', 30)"
   ]
  },
  {
   "source": [
    "## Setter and Getter methods\n",
    "- Setter- To set the values to the instance variables (Mutator method)\n",
    "- Getter- To get the values of an instance variables (Accessor method)"
   ],
   "cell_type": "markdown",
   "metadata": {}
  },
  {
   "cell_type": "code",
   "execution_count": 25,
   "metadata": {},
   "outputs": [
    {
     "output_type": "stream",
     "name": "stdout",
     "text": [
      "Student Name H1\nStudent Marks 40\nStudent Name H2\nStudent Marks 40\n"
     ]
    }
   ],
   "source": [
    "class Student:\n",
    "    def setName(self, name):\n",
    "        self.name = name\n",
    "\n",
    "    def getName(self):\n",
    "        return self.name\n",
    "\n",
    "    def setMarks(self, marks):\n",
    "        self.marks = marks\n",
    "\n",
    "    def getMarks(self):\n",
    "        return self.marks\n",
    "\n",
    "l = []\n",
    "n = int(input('Enter the number of students:'))\n",
    "for i in range(n):\n",
    "    s = Student()\n",
    "    name = input('Enter the name of the student')\n",
    "    marks = int(input('Enter the mark of the student'))\n",
    "    s.setName(name)\n",
    "    s.setMarks(marks)\n",
    "    l.append(s)\n",
    "\n",
    "for s in l:\n",
    "    print('Student Name', s.getName())\n",
    "    print('Student Marks', s.getMarks())"
   ]
  },
  {
   "source": [
    "## Class Methods\n",
    "- Inside the method implementation if we are using only static vriables (WITHOUT INSTANCE VARIABLES)\n",
    "- Atleast one instance varaible is required to call it a Instance method --Atleast one instance + Static variable- Both are present(Instance Method)\n",
    "- @classmethod #Decorator We need to pass cls - To make it a classmethod\n",
    "- We can call class method by using class name or object ref"
   ],
   "cell_type": "markdown",
   "metadata": {}
  },
  {
   "cell_type": "code",
   "execution_count": 1,
   "metadata": {},
   "outputs": [],
   "source": [
    "class Employee: \n",
    "    total_emp = 10\n",
    "\n",
    "    @classmethod\n",
    "    def totalemp(cls, compname):\n",
    "        print('{} has total {} employees'.format(compname, cls.total_emp))"
   ]
  },
  {
   "cell_type": "code",
   "execution_count": 6,
   "metadata": {},
   "outputs": [
    {
     "output_type": "stream",
     "name": "stdout",
     "text": [
      "TCS has total 10 employees\n"
     ]
    }
   ],
   "source": [
    "Employee.totalemp('TCS')"
   ]
  },
  {
   "cell_type": "code",
   "execution_count": 8,
   "metadata": {},
   "outputs": [
    {
     "output_type": "stream",
     "name": "stdout",
     "text": [
      "The number of objects created 3\n"
     ]
    }
   ],
   "source": [
    "class Test: \n",
    "    count = 0\n",
    "    def __init__(self):\n",
    "        Test.count = Test.count + 1 \n",
    "\n",
    "    @classmethod\n",
    "    def noofobj(cls):\n",
    "        print('The number of objects created', Test.count)\n",
    "\n",
    "t1 = Test()\n",
    "t2 = Test()\n",
    "t3 = Test()\n",
    "Test.noofobj()"
   ]
  },
  {
   "cell_type": "code",
   "execution_count": 9,
   "metadata": {},
   "outputs": [
    {
     "output_type": "stream",
     "name": "stdout",
     "text": [
      "30\n"
     ]
    }
   ],
   "source": [
    "class Test: \n",
    "    count = 0\n",
    "    def __init__(self):\n",
    "        Test.count = Test.count + 1\n",
    "\n",
    "    @staticmethod\n",
    "    def noofobj(x,y):\n",
    "        print(x + y)\n",
    "\n",
    "t = Test()\n",
    "t.noofobj(10, 20)"
   ]
  },
  {
   "source": [
    "## Static method\n",
    "- Inside method if we are not using instance and Static variables\n",
    "- General utility method\n",
    "\n",
    "@staticmethod"
   ],
   "cell_type": "markdown",
   "metadata": {}
  },
  {
   "cell_type": "code",
   "execution_count": 14,
   "metadata": {},
   "outputs": [
    {
     "output_type": "stream",
     "name": "stdout",
     "text": [
      "The sum is 30\nThe product is 200\nThe average is 15.0\n"
     ]
    }
   ],
   "source": [
    "class maths:\n",
    "    @staticmethod\n",
    "    def add(x,y):\n",
    "        print('The sum is', x+y)\n",
    "\n",
    "    @staticmethod\n",
    "    def product(x,y):\n",
    "        print('The product is', x*y)\n",
    "\n",
    "    @staticmethod\n",
    "    def average(x,y):\n",
    "        print('The average is', (x+y)/2)\n",
    "\n",
    "maths.add(10,20)\n",
    "maths.product(10,20)\n",
    "maths.average(10,20)"
   ]
  },
  {
   "cell_type": "code",
   "execution_count": 15,
   "metadata": {},
   "outputs": [
    {
     "output_type": "stream",
     "name": "stdout",
     "text": [
      "The sum is 30\nThe product is 200\nThe average is 15.0\n"
     ]
    }
   ],
   "source": [
    "class maths:\n",
    "    def add(x,y):\n",
    "        print('The sum is', x+y)\n",
    "\n",
    "    \n",
    "    def product(x,y):\n",
    "        print('The product is', x*y)\n",
    "\n",
    "    \n",
    "    def average(x,y):\n",
    "        print('The average is', (x+y)/2)\n",
    "\n",
    "maths.add(10,20)\n",
    "maths.product(10,20)\n",
    "maths.average(10,20)"
   ]
  },
  {
   "source": [
    "## General Rules\n",
    "- Instance method -No decorator is required\n",
    "- Class method - @classmethod - Mandatory\n",
    "- Static method - @staticmethod - (Optional)\n",
    "- cls --> self = Instance method\n",
    "\n",
    "\n",
    "- Instance variables- (Instance Method)\n",
    "- Static variables - (Class Method)\n",
    "- Instance + static - (Instance Method)\n",
    "- Instance + static - (Instance Method)\n",
    "- Static + local - (Class Method)\n",
    "- Local - (Static Method)\n",
    "\n",
    "\n",
    "- When a decorator is not used - Instance or static method\n",
    "- We call the static method - Either by class name or by obj ref"
   ],
   "cell_type": "markdown",
   "metadata": {}
  },
  {
   "cell_type": "code",
   "execution_count": 22,
   "metadata": {},
   "outputs": [
    {
     "output_type": "stream",
     "name": "stdout",
     "text": [
      "Some Method: Instance | Static | Class\n2253289932016\n2253290331344\nSome Method: Instance | Static | Class\n140713117915072\n"
     ]
    }
   ],
   "source": [
    "class Test: \n",
    "    def m1(cls):\n",
    "        print('Some Method: Instance | Static | Class')\n",
    "        print(id(cls))\n",
    "\n",
    "t = Test() #In this case this is acting as an Instance method\n",
    "t.m1() #In this case this is acting as an Instance method\n",
    "print(id(t1)) #In this case this is acting as an Instance method\n",
    "\n",
    "Test.m1(10) #In this case this is a static method"
   ]
  }
 ]
}