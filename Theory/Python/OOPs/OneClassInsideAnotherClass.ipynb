{
 "metadata": {
  "language_info": {
   "codemirror_mode": {
    "name": "ipython",
    "version": 3
   },
   "file_extension": ".py",
   "mimetype": "text/x-python",
   "name": "python",
   "nbconvert_exporter": "python",
   "pygments_lexer": "ipython3",
   "version": "3.8.0-final"
  },
  "orig_nbformat": 2,
  "kernelspec": {
   "name": "Python 3.8.0 64-bit",
   "display_name": "Python 3.8.0 64-bit",
   "metadata": {
    "interpreter": {
     "hash": "59045e629a07e05d5f437af716c8a6e2596ed86746077eedb1b352ec10176774"
    }
   }
  }
 },
 "nbformat": 4,
 "nbformat_minor": 2,
 "cells": [
  {
   "source": [
    "# Memebers of one class inside another class\n",
    "- By Composition (Has a realationship)\n",
    "- By Inheritance (Is a realtionship)\n",
    "\n",
    "## Composition\n",
    "- By using class name or by creating object we can access members of one class inside another class\n"
   ],
   "cell_type": "markdown",
   "metadata": {}
  },
  {
   "cell_type": "code",
   "execution_count": 7,
   "metadata": {},
   "outputs": [
    {
     "output_type": "stream",
     "name": "stdout",
     "text": [
      "Class car using engine class functionality\n10\n20\nEngine specific Functionality\n"
     ]
    }
   ],
   "source": [
    "class Engine:\n",
    "    a = 10\n",
    "    def __init__(self):\n",
    "        self.b = 20\n",
    "\n",
    "    def m1(self):\n",
    "        print('Engine specific Functionality')\n",
    "\n",
    "class Car: \n",
    "    def __init__(self):\n",
    "        self.engine = Engine()\n",
    "\n",
    "    def m2(self):\n",
    "        print('Class car using engine class functionality')\n",
    "        print(self.engine.a)\n",
    "        print(self.engine.b)\n",
    "        self.engine.m1()\n",
    "\n",
    "c = Car()\n",
    "c.m2() #What is the realtionship between car and engine? Car class has a Engine 'REFERENCE'"
   ]
  },
  {
   "cell_type": "code",
   "execution_count": 14,
   "metadata": {},
   "outputs": [
    {
     "output_type": "stream",
     "name": "stdout",
     "text": [
      "Employee Number: 100\nEMp;oyee Name: Harish\nCar Information\nCar Name: M800\nCar Model: 800\nCar Color: Black\n"
     ]
    }
   ],
   "source": [
    "class Car:\n",
    "    def __init__(self, name, model, color):\n",
    "        self.name = name\n",
    "        self.model = model\n",
    "        self.color = color\n",
    "\n",
    "    def getinfor(self):\n",
    "        print('Car Name:', self.name)\n",
    "        print('Car Model:', self.model)\n",
    "        print('Car Color:', self.color)\n",
    "\n",
    "\n",
    "class Employee:\n",
    "    def __init__(self, eno, ename, car):\n",
    "        self.eno = eno\n",
    "        self.ename =ename\n",
    "        self.car = car\n",
    "\n",
    "    def empinfor(self):\n",
    "        print('Employee Number:', self.eno)\n",
    "        print('EMp;oyee Name:', self.ename)\n",
    "        print('Car Information')\n",
    "        self.car.getinfor()\n",
    "\n",
    "c = Car('M800', 800, 'Black')\n",
    "e = Employee(100, 'Harish', c).empinfor()"
   ]
  },
  {
   "cell_type": "code",
   "execution_count": 15,
   "metadata": {},
   "outputs": [
    {
     "output_type": "stream",
     "name": "stdout",
     "text": [
      "10\n20\nM1 Method of X class\n30\n40\nM2 Method of Y class\nInside m3 method of Y class\n"
     ]
    }
   ],
   "source": [
    "class X:\n",
    "    a = 10\n",
    "    def __init__(self):\n",
    "        self.b = 20\n",
    "    \n",
    "    def m1(self):\n",
    "        print('M1 Method of X class')\n",
    "\n",
    "class Y:\n",
    "    c = 30\n",
    "    def __init__(self):\n",
    "        self.d = 40 \n",
    "\n",
    "    def m2(self):\n",
    "        print('M2 Method of Y class')\n",
    "\n",
    "    def m3(self):\n",
    "        x1 = X()\n",
    "        print(x1.a)\n",
    "        print(x1.b)\n",
    "        x1.m1()\n",
    "        print(self.c)\n",
    "        print(self.d)\n",
    "        self.m2()\n",
    "        print('Inside m3 method of Y class')\n",
    "\n",
    "y1 = Y()\n",
    "y1.m3()"
   ]
  },
  {
   "source": [
    "## Inheritance\n",
    "- Inheritance enables us to define a class that takes all the functionality from a parent class and allows us to add more.\n",
    "- Inheritance is a powerful features in object oriented programming\n",
    "- It refers to defining a new class with little or no modification to an existing class. The new class is called derived (or child) class and the one from which it inherits is called the base (or parent) class. \n",
    "\n"
   ],
   "cell_type": "markdown",
   "metadata": {}
  },
  {
   "cell_type": "code",
   "execution_count": 28,
   "metadata": {},
   "outputs": [],
   "source": [
    "class P:\n",
    "    a = 10 \n",
    "    def __init__(self):\n",
    "        self.b = 20\n",
    "\n",
    "    def m1(self):\n",
    "        print('Parent class instance method')\n",
    "\n",
    "    @classmethod\n",
    "    def m2(cls):\n",
    "        print('Parent class method')\n",
    "    @staticmethod\n",
    "    def m3():\n",
    "        print('Parent class static method')\n",
    "\n",
    "class C():\n",
    "    pass"
   ]
  },
  {
   "cell_type": "code",
   "execution_count": 27,
   "metadata": {},
   "outputs": [
    {
     "output_type": "stream",
     "name": "stdout",
     "text": [
      "Parent class instance method\nParent class method\nParent class static method\n"
     ]
    }
   ],
   "source": [
    "p = P()\n",
    "p.a\n",
    "p.b\n",
    "p.m1()\n",
    "p.m2()\n",
    "p.m3()"
   ]
  },
  {
   "cell_type": "code",
   "execution_count": 29,
   "metadata": {},
   "outputs": [],
   "source": [
    "class P:\n",
    "    a = 10 \n",
    "    def __init__(self):\n",
    "        self.b = 20\n",
    "\n",
    "    def m1(self):\n",
    "        print('Parent class instance method')\n",
    "\n",
    "    @classmethod\n",
    "    def m2(cls):\n",
    "        print('Parent class method')\n",
    "    @staticmethod\n",
    "    def m3():\n",
    "        print('Parent class static method')\n",
    "\n",
    "class C(P):\n",
    "    pass"
   ]
  },
  {
   "cell_type": "code",
   "execution_count": 32,
   "metadata": {},
   "outputs": [
    {
     "output_type": "stream",
     "name": "stdout",
     "text": [
      "Parent class instance method\nParent class method\nParent class static method\n"
     ]
    }
   ],
   "source": [
    "c = C()\n",
    "c.a\n",
    "c.b\n",
    "c.m1()\n",
    "c.m2()\n",
    "c.m3()"
   ]
  },
  {
   "cell_type": "code",
   "execution_count": 35,
   "metadata": {},
   "outputs": [
    {
     "output_type": "stream",
     "name": "stdout",
     "text": [
      "Parent class method\nChild class method\n"
     ]
    }
   ],
   "source": [
    "class P:\n",
    "    def m1(self):\n",
    "        print('Parent class method')\n",
    "\n",
    "class C(P):\n",
    "    def m2(self):\n",
    "        print('Child class method')\n",
    "\n",
    "c = C()\n",
    "c.m1()\n",
    "c.m2()\n"
   ]
  },
  {
   "cell_type": "code",
   "execution_count": 37,
   "metadata": {},
   "outputs": [
    {
     "output_type": "stream",
     "name": "stdout",
     "text": [
      "10 30 40\n"
     ]
    }
   ],
   "source": [
    "class P:\n",
    "    a = 10\n",
    "    def __init__(self):\n",
    "        self.b = 20\n",
    "\n",
    "class C(P):\n",
    "    c = 30\n",
    "    def __init__(self):\n",
    "        self.d = 40\n",
    "c = C()\n",
    "print(c.a, c.c, c.d)"
   ]
  },
  {
   "cell_type": "code",
   "execution_count": 38,
   "metadata": {},
   "outputs": [
    {
     "output_type": "stream",
     "name": "stdout",
     "text": [
      "10 20 30 40\n"
     ]
    }
   ],
   "source": [
    "class P:\n",
    "    a = 10\n",
    "    def __init__(self):\n",
    "        self.b = 20\n",
    "    \n",
    "class C(P):\n",
    "    c = 30\n",
    "    def __init__(self):\n",
    "        super().__init__()\n",
    "        self.d = 40\n",
    "\n",
    "c = C()\n",
    "print(c.a, c.b, c.c, c.d)"
   ]
  },
  {
   "source": [
    "## Types of Inheritance\n",
    "- Single Inheritance (Single parent single child)\n",
    "- Multilevel Inheritance (Industry Standard- Max of 6-8 levels)\n",
    "- Hierarchial Inheritance\n",
    "- Multiple Inheritance\n",
    "- Hybrid Inhertiance\n",
    "- Cyclic Inhertiance - Python don't support cyclic Inheritance"
   ],
   "cell_type": "markdown",
   "metadata": {}
  },
  {
   "cell_type": "code",
   "execution_count": 39,
   "metadata": {},
   "outputs": [
    {
     "output_type": "stream",
     "name": "stdout",
     "text": [
      "Parent Method\nChild Method\n"
     ]
    }
   ],
   "source": [
    "#Single Inheritance\n",
    "class P:\n",
    "    def m1(self):\n",
    "        print('Parent Method')\n",
    "\n",
    "class C(P):\n",
    "    def m2(self):\n",
    "        print('Child Method')\n",
    "\n",
    "c = C()\n",
    "c.m1()\n",
    "c.m2()"
   ]
  },
  {
   "cell_type": "code",
   "execution_count": 45,
   "metadata": {},
   "outputs": [
    {
     "output_type": "stream",
     "name": "stdout",
     "text": [
      "Parent Method\nChild Method\nSub Child Method\n"
     ]
    }
   ],
   "source": [
    "# Multilevel Inhertiance\n",
    "class P:\n",
    "    def m1(self):\n",
    "        print('Parent Method')\n",
    "\n",
    "class C(P):\n",
    "    def m2(self):\n",
    "        print('Child Method')\n",
    "\n",
    "class CC(C):\n",
    "    def m3(self):\n",
    "        print('Sub Child Method')\n",
    "\n",
    "cc = CC()\n",
    "cc.m1()\n",
    "cc.m2()\n",
    "cc.m3()"
   ]
  },
  {
   "source": [
    "# Hierarchical Inheritance\n",
    "class P:\n",
    "    def m1(self):\n",
    "        print('Parent Method')\n",
    "\n",
    "class C1(P):\n",
    "    def m2(self):\n",
    "        print('Child 1 Method')\n",
    "\n",
    "class C2(P):\n",
    "    def m3(self):\n",
    "        print('Child 2 Method')\n",
    "\n",
    "c1 = C1()\n",
    "c1.m2()\n",
    "c1.m1()\n",
    "print('')\n",
    "c2 = C2()\n",
    "c2.m3()\n",
    "c2.m1()"
   ],
   "cell_type": "code",
   "metadata": {},
   "execution_count": 51,
   "outputs": [
    {
     "output_type": "stream",
     "name": "stdout",
     "text": [
      "Child 1 Method\nParent Method\n\nChild 2 Method\nParent Method\n"
     ]
    }
   ]
  },
  {
   "cell_type": "code",
   "execution_count": 52,
   "metadata": {},
   "outputs": [
    {
     "output_type": "stream",
     "name": "stdout",
     "text": [
      "Child Method\nParent 2 Method\nParent 1 Method\n"
     ]
    }
   ],
   "source": [
    "# Multiple Inheritance\n",
    "class P1: \n",
    "    def m1(self):\n",
    "        print('Parent 1 Method')\n",
    "\n",
    "class P2:\n",
    "    def m2(self):\n",
    "        print('Parent 2 Method')\n",
    "\n",
    "class C(P1, P2):\n",
    "    def m3(self):\n",
    "        print('Child Method')\n",
    "\n",
    "\n",
    "c = C()\n",
    "c.m3()\n",
    "c.m2()\n",
    "c.m1()"
   ]
  },
  {
   "cell_type": "code",
   "execution_count": 56,
   "metadata": {},
   "outputs": [
    {
     "output_type": "stream",
     "name": "stdout",
     "text": [
      "Child Method\nParent 1 Method\n"
     ]
    }
   ],
   "source": [
    "# Multiple Inheritance\n",
    "class P1: \n",
    "    def m1(self):\n",
    "        print('Parent 1 Method')\n",
    "\n",
    "class P2:\n",
    "    def m1(self):\n",
    "        print('Parent 2 Method')\n",
    "\n",
    "class C(P1, P2): #P1 takes the priority\n",
    "    def m3(self):\n",
    "        print('Child Method')\n",
    "\n",
    "\n",
    "c = C()\n",
    "c.m3()\n",
    "c.m1()"
   ]
  },
  {
   "cell_type": "code",
   "execution_count": 17,
   "metadata": {},
   "outputs": [],
   "source": [
    "# Composition and Inheritance\n",
    "class Car:\n",
    "    def __init__(self, name, model, color):\n",
    "        self.name = name\n",
    "        self.model = model\n",
    "        self.color = color\n",
    "\n",
    "    def getinfor(self):\n",
    "        print('\\tCar Name: {}\\tCar Model: {}/tCar Color: {}'.format(self.name, self.model, self.color))\n",
    "\n",
    "class Person:\n",
    "    def __init__(self, name, age):\n",
    "        self.name = name\n",
    "        self.age = age\n",
    "\n",
    "    def eat_n_drink(self):\n",
    "        print('Lets have Pizza and Cold Coffee', self.name, self.age)\n",
    "\n",
    "class Employee(Person): #Inheritance\n",
    "    def __init__(self, name, age, eno, esal, car): #Composition\n",
    "        super().__init__(name, age) #Composition\n",
    "        self.eno = eno\n",
    "        self.esal = esal\n",
    "        self.car = car\n",
    "\n",
    "    def work(self):\n",
    "        print('Python Coding...')\n",
    "\n",
    "    def empinfo(self):\n",
    "        print('Employee name:', self.name)\n",
    "        print('Employee Age:', self.age)\n",
    "        print('Employee No:', self.eno)\n",
    "        print('Employee Sal:', self.esal)\n",
    "        print('Car Info')\n",
    "        self.car.getinfor() \n"
   ]
  },
  {
   "cell_type": "code",
   "execution_count": 18,
   "metadata": {},
   "outputs": [
    {
     "output_type": "stream",
     "name": "stdout",
     "text": [
      "Lets have Pizza and Cold Coffee Harish 28\nPython Coding...\nEmployee name: Harish\nEmployee Age: 28\nEmployee No: 123\nEmployee Sal: 10\nCar Info\n\tCar Name: Toyota\tCar Model: Classic/tCar Color: Silver\n"
     ]
    }
   ],
   "source": [
    "c = Car('Toyota', 'Classic', 'Silver')\n",
    "e = Employee('Harish', 28, 123, 10, c)\n",
    "\n",
    "e.eat_n_drink()\n",
    "e.work()\n",
    "e.empinfo()"
   ]
  },
  {
   "source": [
    "### We have two formats\n",
    "- Compostition\n",
    "- Aggregation\n",
    "- Without existing college there is no chance of dept. Strongly associated and known as composition\n",
    "- In a department there are several professors going to work. Students not coming to one dept the professors are moved to a different department- Aggregation\n",
    "- Without existing container object there may be a chance of contained object- Weak assocation and know as aggeration "
   ],
   "cell_type": "markdown",
   "metadata": {}
  },
  {
   "cell_type": "code",
   "execution_count": 20,
   "metadata": {},
   "outputs": [],
   "source": [
    "class Student:\n",
    "    colleage_name = 'Tech' #Weak Assocation- Aggregation\n",
    "    def __init(self, name):\n",
    "        self.name = name #Strong association- Compostition"
   ]
  },
  {
   "cell_type": "code",
   "execution_count": 25,
   "metadata": {},
   "outputs": [
    {
     "output_type": "stream",
     "name": "stdout",
     "text": [
      "Class B Method\n"
     ]
    },
    {
     "output_type": "execute_result",
     "data": {
      "text/plain": [
       "[__main__.D, __main__.B, __main__.C, __main__.A, object]"
      ]
     },
     "metadata": {},
     "execution_count": 25
    }
   ],
   "source": [
    "# Hybrid Inheritance: CASE1\n",
    "class A:\n",
    "    def m1(self):\n",
    "        print('Class A Method')\n",
    "\n",
    "class B(A):\n",
    "    def m1(self): \n",
    "        print('Class B Method')\n",
    "\n",
    "class C(A):\n",
    "    def m1(self):\n",
    "        print('Class C Method')\n",
    "\n",
    "class D(B,C):\n",
    "    pass\n",
    "\n",
    "d = D()\n",
    "d.m1()\n",
    "D.mro()"
   ]
  },
  {
   "cell_type": "code",
   "execution_count": 29,
   "metadata": {},
   "outputs": [
    {
     "output_type": "stream",
     "name": "stdout",
     "text": [
      "[<class '__main__.P'>, <class '__main__.X'>, <class '__main__.A'>, <class '__main__.Y'>, <class '__main__.B'>, <class '__main__.C'>, <class 'object'>]\n[<class '__main__.Y'>, <class '__main__.B'>, <class '__main__.C'>, <class 'object'>]\n[<class '__main__.X'>, <class '__main__.A'>, <class '__main__.B'>, <class 'object'>]\n[<class '__main__.C'>, <class 'object'>]\n[<class '__main__.B'>, <class 'object'>]\n[<class '__main__.A'>, <class 'object'>]\n"
     ]
    }
   ],
   "source": [
    "#Hybrid Inheritance: CASE2\n",
    "class A():\n",
    "    pass\n",
    "\n",
    "class B():\n",
    "    pass\n",
    "\n",
    "class C():\n",
    "    pass\n",
    "\n",
    "class X(A,B):\n",
    "    pass\n",
    "\n",
    "class Y(B,C):\n",
    "    pass\n",
    "\n",
    "class P(X, Y, C):\n",
    "    pass\n",
    "\n",
    "print(P.mro())\n",
    "print(Y.mro())\n",
    "print(X.mro())\n",
    "print(C.mro())\n",
    "print(B.mro())\n",
    "print(A.mro())"
   ]
  },
  {
   "source": [
    "## C3 Linearization Algrothim - Samuel Pedroni \n",
    " DLR (Depth first Left to Right)\n",
    "\n",
    "- XABO\n",
    "    - head element - X\n",
    "    - Tail - ABO\n",
    "\n",
    "- mro(O) = O\n",
    "- mro(A) = AO\n",
    "- mro(B) = BO\n",
    "- mro(C) = CO\n",
    "- mro(Y) = YBCO\n",
    "- mro(P) = ???\n",
    "\n",
    "MRO(X) = X + Merge(MRO(P1), MRO(P2),...., parent list)\n"
   ],
   "cell_type": "markdown",
   "metadata": {}
  },
  {
   "cell_type": "code",
   "execution_count": null,
   "metadata": {},
   "outputs": [],
   "source": []
  }
 ]
}