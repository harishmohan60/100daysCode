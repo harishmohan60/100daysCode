{
 "metadata": {
  "language_info": {
   "codemirror_mode": {
    "name": "ipython",
    "version": 3
   },
   "file_extension": ".py",
   "mimetype": "text/x-python",
   "name": "python",
   "nbconvert_exporter": "python",
   "pygments_lexer": "ipython3",
   "version": "3.8.0-final"
  },
  "orig_nbformat": 2,
  "kernelspec": {
   "name": "Python 3.8.0 64-bit",
   "display_name": "Python 3.8.0 64-bit",
   "metadata": {
    "interpreter": {
     "hash": "59045e629a07e05d5f437af716c8a6e2596ed86746077eedb1b352ec10176774"
    }
   }
  }
 },
 "nbformat": 4,
 "nbformat_minor": 2,
 "cells": [
  {
   "source": [
    "# Passing the members of one class to another"
   ],
   "cell_type": "markdown",
   "metadata": {}
  },
  {
   "cell_type": "code",
   "execution_count": 11,
   "metadata": {},
   "outputs": [
    {
     "output_type": "stream",
     "name": "stdout",
     "text": [
      "Employee Number: 100\nEmployee Name: Harish\nEmployee Salary: 5\nEmployee Number: 100\nEmployee Name: Harish\nEmployee Salary: 15\n"
     ]
    }
   ],
   "source": [
    "class Employee: \n",
    "    def __init__(self, eno, ename, esal):\n",
    "        self.eno = eno\n",
    "        self.ename = ename\n",
    "        self.esal = esal\n",
    "\n",
    "    def display(self):\n",
    "        print('Employee Number:', self.eno)\n",
    "        print('Employee Name:', self.ename)\n",
    "        print('Employee Salary:', self.esal)\n",
    "\n",
    "\n",
    "class Test:\n",
    "    def modify(emp):\n",
    "        emp.esal = emp.esal + 10\n",
    "        emp.display()\n",
    "\n",
    "\n",
    "e = Employee(100, 'Harish', 5)\n",
    "e.display()\n",
    "\n",
    "Test.modify(e)\n"
   ]
  },
  {
   "cell_type": "code",
   "execution_count": 16,
   "metadata": {},
   "outputs": [
    {
     "output_type": "stream",
     "name": "stdout",
     "text": [
      "Hello\nHello\n"
     ]
    }
   ],
   "source": [
    "class Test:\n",
    "    def modify(emp):\n",
    "        print('Hello')\n",
    "e1 = Test() # Acting as Instance method\n",
    "e1.modify() # Acting as Instance method\n",
    "\n",
    "Test.modify(10) #Acting as Static method"
   ]
  },
  {
   "source": [
    "## Inner Classes\n",
    "- Classes inside another classes\n",
    "- without existing outer class inner class is of no use"
   ],
   "cell_type": "markdown",
   "metadata": {}
  },
  {
   "cell_type": "code",
   "execution_count": 28,
   "metadata": {},
   "outputs": [
    {
     "output_type": "stream",
     "name": "stdout",
     "text": [
      "Outer class object creation...\n\nOuter class object creation...\nInner class object creation...\n\nOuter class object creation...\nInner class object creation...\nInner class method\n\nInner class object creation...\nInner class method\n"
     ]
    }
   ],
   "source": [
    "class Outer:\n",
    "    def __init__(self):\n",
    "        print('Outer class object creation...')\n",
    "    \n",
    "    class Inner:\n",
    "        def __init__(self):\n",
    "            print('Inner class object creation...')\n",
    "\n",
    "        def m1(self):\n",
    "            print('Inner class method')\n",
    "Outer()\n",
    "print('')\n",
    "Outer().Inner()\n",
    "print('')\n",
    "Outer().Inner().m1()\n",
    "print('')\n",
    "Outer.Inner().m1()"
   ]
  },
  {
   "cell_type": "code",
   "execution_count": 32,
   "metadata": {},
   "outputs": [
    {
     "output_type": "stream",
     "name": "stdout",
     "text": [
      "Outer class object creation...\nInner class object creation...\nInner Inner class object creation...\nInner Inner class method\n\nInner Inner class object creation...\nInner Inner class method\n"
     ]
    }
   ],
   "source": [
    "class Outer:\n",
    "    def __init__(self):\n",
    "        print('Outer class object creation...')\n",
    "\n",
    "    class Inner:\n",
    "        def __init__(self):\n",
    "            print('Inner class object creation...')\n",
    "            \n",
    "        class InnerInner:\n",
    "            def __init__(self):\n",
    "                print('Inner Inner class object creation...')\n",
    "            \n",
    "            def m1(self):\n",
    "                print('Inner Inner class method')\n",
    "\n",
    "\n",
    "o = Outer().Inner().InnerInner().m1()\n",
    "print('')\n",
    "i = Outer.Inner.InnerInner().m1()"
   ]
  },
  {
   "cell_type": "code",
   "execution_count": 57,
   "metadata": {},
   "outputs": [
    {
     "output_type": "stream",
     "name": "stdout",
     "text": [
      "Hello Harish\nTalking...\nThinking...\n"
     ]
    }
   ],
   "source": [
    "class Human:\n",
    "    def __init__(self,name):\n",
    "        self.name = name\n",
    "        self.head = self.Head()\n",
    "        self.brain = self.head.Brain()\n",
    "\n",
    "    def display(self):\n",
    "        print('Hello', self.name)\n",
    "        self.head.talk()\n",
    "        self.brain.think()\n",
    "\n",
    "\n",
    "    class Head: \n",
    "        def talk(self):\n",
    "            print('Talking...')\n",
    "\n",
    "        class Brain:\n",
    "            def think(self):\n",
    "                print('Thinking...')\n",
    "\n",
    "Human('Harish').display()"
   ]
  },
  {
   "cell_type": "code",
   "execution_count": 63,
   "metadata": {},
   "outputs": [
    {
     "output_type": "stream",
     "name": "stdout",
     "text": [
      "Customer Name: HM\nDOB=10/11/2020\n"
     ]
    }
   ],
   "source": [
    "class Customer:\n",
    "    def __init__(self, name, dd,mm,yyyy):\n",
    "        self.name = name\n",
    "        self.dob = self.DBO(dd,mm,yyyy)\n",
    "        self.display()\n",
    "\n",
    "    def display(self):\n",
    "        print('Customer Name:', self.name)\n",
    "        self.dob.display()\n",
    "\n",
    "    class DBO:\n",
    "        def __init__(self, dd, mm, yyyy):\n",
    "            self.dd = dd\n",
    "            self.mm = mm\n",
    "            self.yyyy = yyyy\n",
    "\n",
    "        def display(self):\n",
    "            print('DOB={}/{}/{}'.format(self.dd, self.mm, self.yyyy))\n",
    "\n",
    "\n",
    "c = Customer('HM', 10, 11, 2020)\n"
   ]
  },
  {
   "source": [
    "### Nested Methods"
   ],
   "cell_type": "markdown",
   "metadata": {}
  },
  {
   "cell_type": "code",
   "execution_count": 68,
   "metadata": {},
   "outputs": [
    {
     "output_type": "stream",
     "name": "stdout",
     "text": [
      "The Sum is: 30\nThe Diff is: -10\nThe Mul is: 200\nThe Div is: 0.5\n"
     ]
    }
   ],
   "source": [
    "class Test:\n",
    "    def m1(self):\n",
    "        def calculator(a,b):\n",
    "            print('The Sum is:', a+b)\n",
    "            print('The Diff is:', a-b)\n",
    "            print('The Mul is:', a*b)\n",
    "            print('The Div is:', a/b)\n",
    "\n",
    "        calculator(10, 20)\n",
    "\n",
    "t = Test()\n",
    "t.m1()"
   ]
  }
 ]
}